{
 "cells": [
  {
   "cell_type": "code",
   "execution_count": 1,
   "metadata": {},
   "outputs": [],
   "source": [
    "import torch\n",
    "import numpy as np\n",
    "import pykaruiflow as kf\n",
    "import os\n",
    "import os \n",
    "#os.environ[\"KMP_DUPLICATE_LIB_OK\"]=\"TRUE\""
   ]
  },
  {
   "cell_type": "markdown",
   "metadata": {},
   "source": [
    "## Defining a neural network class"
   ]
  },
  {
   "cell_type": "code",
   "execution_count": 2,
   "metadata": {},
   "outputs": [],
   "source": [
    "class Linear(kf.nn.Module):\n",
    "    def __init__(self, dim1, dim2):\n",
    "        super().__init__()\n",
    "        value = np.random.randn(dim1, dim2).astype('float32') / np.sqrt(dim1 / 2)\n",
    "        self.weights = kf.core.Parameter(value)\n",
    "        \n",
    "    def forward(self, x):\n",
    "        return kf.matmul(x, self.weights)\n",
    "    \n",
    "\n",
    "class LinearReLU(kf.nn.Module):\n",
    "    def __init__(self, dim1, dim2):\n",
    "        super().__init__()\n",
    "        self.linear = Linear(dim1, dim2)\n",
    "        \n",
    "    def forward(self, x):\n",
    "        x = self.linear(x)\n",
    "        return kf.relu(x)\n",
    "    \n",
    "class NN(kf.nn.Module):\n",
    "    def __init__(self, in_dim, dim=128, n_classes=10):\n",
    "        super().__init__()\n",
    "        self.layer1 = LinearReLU(in_dim, dim)\n",
    "        self.layer2 = LinearReLU(dim, dim)\n",
    "        self.layer3 = Linear(dim, n_classes)\n",
    "    \n",
    "    def forward(self, x):\n",
    "        x = self.layer1(x)\n",
    "        x = self.layer2(x)        \n",
    "        x = self.layer3(x)\n",
    "        return kf.softmax(x, dim=-1)"
   ]
  },
  {
   "cell_type": "code",
   "execution_count": 3,
   "metadata": {},
   "outputs": [],
   "source": [
    "nn = NN(28 * 28)"
   ]
  },
  {
   "cell_type": "markdown",
   "metadata": {},
   "source": [
    "## Training"
   ]
  },
  {
   "cell_type": "code",
   "execution_count": 4,
   "metadata": {},
   "outputs": [],
   "source": [
    "from torchvision.datasets import CIFAR10, MNIST\n",
    "from torch.utils.data import DataLoader\n",
    "\n",
    "# import ssl\n",
    "# ssl._create_default_https_context = ssl._create_unverified_context"
   ]
  },
  {
   "cell_type": "code",
   "execution_count": 5,
   "metadata": {},
   "outputs": [],
   "source": [
    "# Hyper parameters\n",
    "BATCH_SIZE = 128\n",
    "EPOCHS = 3\n",
    "optim = kf.optim.SGD(nn.parameters(), lr=1e-3, momentum=0.99)"
   ]
  },
  {
   "cell_type": "code",
   "execution_count": 6,
   "metadata": {},
   "outputs": [],
   "source": [
    "indices = np.arange(BATCH_SIZE)\n",
    "\n",
    "# Cross-entropy\n",
    "def loss_fn(x, y, nn, n_classes=10):\n",
    "    x = kf.tensor(x)\n",
    "    y_pred = nn(x)\n",
    "    log_pred = kf.log(y_pred)\n",
    "    one_hot = np.zeros((BATCH_SIZE, n_classes), dtype='float32')\n",
    "    one_hot[indices, y] = 1.\n",
    "    one_hot = kf.tensor(one_hot)\n",
    "    return kf.sum(log_pred * one_hot, dim=[0, 1]) * -1. "
   ]
  },
  {
   "cell_type": "code",
   "execution_count": 7,
   "metadata": {},
   "outputs": [],
   "source": [
    "def preprocess(im):\n",
    "    im = np.asarray(im, dtype='float32').reshape(-1) / 127 - 1\n",
    "    return im"
   ]
  },
  {
   "cell_type": "code",
   "execution_count": 8,
   "metadata": {},
   "outputs": [],
   "source": [
    "# Dataset\n",
    "mnist_train = MNIST(root='.', train=True, download=True, transform=lambda x: preprocess(x))\n",
    "mnist_train = DataLoader(mnist_train, batch_size=BATCH_SIZE)"
   ]
  },
  {
   "cell_type": "code",
   "execution_count": 9,
   "metadata": {
    "scrolled": false
   },
   "outputs": [
    {
     "name": "stdout",
     "output_type": "stream",
     "text": [
      "Epoch: 0 Iteration: 0 Loss: 369.45782\n",
      "Epoch: 0 Iteration: 50 Loss: 117.93898\n",
      "Epoch: 0 Iteration: 100 Loss: 64.69398\n",
      "Epoch: 0 Iteration: 150 Loss: 79.151596\n",
      "Epoch: 0 Iteration: 200 Loss: 37.67496\n",
      "Epoch: 0 Iteration: 250 Loss: 52.516354\n",
      "Epoch: 0 Iteration: 300 Loss: 34.244675\n",
      "Epoch: 0 Iteration: 350 Loss: 59.268475\n",
      "Epoch: 0 Iteration: 400 Loss: 40.718704\n",
      "Epoch: 0 Iteration: 450 Loss: 41.304325\n",
      "Epoch: 1 Iteration: 0 Loss: 20.119576\n",
      "Epoch: 1 Iteration: 50 Loss: 21.621922\n",
      "Epoch: 1 Iteration: 100 Loss: 19.694801\n",
      "Epoch: 1 Iteration: 150 Loss: 24.203106\n",
      "Epoch: 1 Iteration: 200 Loss: 26.21271\n",
      "Epoch: 1 Iteration: 250 Loss: 27.684517\n",
      "Epoch: 1 Iteration: 300 Loss: 20.936888\n",
      "Epoch: 1 Iteration: 350 Loss: 38.271362\n",
      "Epoch: 1 Iteration: 400 Loss: 30.414124\n",
      "Epoch: 1 Iteration: 450 Loss: 26.91835\n",
      "Epoch: 2 Iteration: 0 Loss: 11.3697405\n",
      "Epoch: 2 Iteration: 50 Loss: 16.813648\n",
      "Epoch: 2 Iteration: 100 Loss: 13.512104\n",
      "Epoch: 2 Iteration: 150 Loss: 19.908379\n",
      "Epoch: 2 Iteration: 200 Loss: 15.218263\n",
      "Epoch: 2 Iteration: 250 Loss: 21.902027\n",
      "Epoch: 2 Iteration: 300 Loss: 20.427399\n",
      "Epoch: 2 Iteration: 350 Loss: 27.753107\n",
      "Epoch: 2 Iteration: 400 Loss: 19.902317\n",
      "Epoch: 2 Iteration: 450 Loss: 20.054737\n"
     ]
    }
   ],
   "source": [
    "for epoch in range(EPOCHS):\n",
    "    for i, (im, label) in enumerate(mnist_train):\n",
    "        if len(label) != BATCH_SIZE:\n",
    "            break\n",
    "            \n",
    "        loss = loss_fn(im.numpy(), label.numpy(), nn)\n",
    "        loss.backward()\n",
    "        optim.step()\n",
    "        optim.zero_grad()\n",
    "\n",
    "        if i % 50 == 0:\n",
    "            print('Epoch:', epoch, 'Iteration:', i, 'Loss:', loss.numpy())"
   ]
  },
  {
   "cell_type": "markdown",
   "metadata": {},
   "source": [
    "## Testing"
   ]
  },
  {
   "cell_type": "code",
   "execution_count": 10,
   "metadata": {},
   "outputs": [],
   "source": [
    "import matplotlib.pyplot as plt"
   ]
  },
  {
   "cell_type": "code",
   "execution_count": 11,
   "metadata": {},
   "outputs": [],
   "source": [
    "mnist_test = MNIST(root='.', train=False, download=True, transform=lambda x: preprocess(x))"
   ]
  },
  {
   "cell_type": "code",
   "execution_count": 12,
   "metadata": {},
   "outputs": [],
   "source": [
    "mnist_test = DataLoader(mnist_test, batch_size=BATCH_SIZE)"
   ]
  },
  {
   "cell_type": "code",
   "execution_count": 13,
   "metadata": {},
   "outputs": [],
   "source": [
    "im, label = next(iter(mnist_test))\n",
    "im, label = im.numpy(), label.numpy()"
   ]
  },
  {
   "cell_type": "code",
   "execution_count": 14,
   "metadata": {},
   "outputs": [
    {
     "data": {
      "text/plain": [
       "<matplotlib.image.AxesImage at 0x7f3175c47b50>"
      ]
     },
     "execution_count": 14,
     "metadata": {},
     "output_type": "execute_result"
    },
    {
     "data": {
      "image/png": "[encoded data removed]",
      "text/plain": [
       "<Figure size 640x480 with 1 Axes>"
      ]
     },
     "metadata": {},
     "output_type": "display_data"
    }
   ],
   "source": [
    "plt.imshow(im[0].reshape(28, 28))"
   ]
  },
  {
   "cell_type": "code",
   "execution_count": 16,
   "metadata": {},
   "outputs": [
    {
     "data": {
      "text/plain": [
       "array([7])"
      ]
     },
     "execution_count": 16,
     "metadata": {},
     "output_type": "execute_result"
    }
   ],
   "source": [
    "nn(kf.tensor(im[0][None, ...])).numpy().argmax(axis=-1)"
   ]
  },
  {
   "cell_type": "code",
   "execution_count": 17,
   "metadata": {},
   "outputs": [
    {
     "data": {
      "text/plain": [
       "<matplotlib.image.AxesImage at 0x7f31748df3d0>"
      ]
     },
     "execution_count": 17,
     "metadata": {},
     "output_type": "execute_result"
    },
    {
     "data": {
      "image/png": "[encoded data removed]",
      "text/plain": [
       "<Figure size 640x480 with 1 Axes>"
      ]
     },
     "metadata": {},
     "output_type": "display_data"
    }
   ],
   "source": [
    "plt.imshow(im[1].reshape(28, 28))"
   ]
  },
  {
   "cell_type": "code",
   "execution_count": 18,
   "metadata": {},
   "outputs": [
    {
     "data": {
      "text/plain": [
       "array([2])"
      ]
     },
     "execution_count": 18,
     "metadata": {},
     "output_type": "execute_result"
    }
   ],
   "source": [
    "nn(kf.tensor(im[1][None, ...])).numpy().argmax(axis=-1)"
   ]
  },
  {
   "cell_type": "code",
   "execution_count": 65,
   "metadata": {},
   "outputs": [
    {
     "data": {
      "text/plain": [
       "<matplotlib.image.AxesImage at 0x281859c9948>"
      ]
     },
     "execution_count": 65,
     "metadata": {},
     "output_type": "execute_result"
    },
    {
     "data": {
      "image/png": "[encoded data removed]",
      "text/plain": [
       "<Figure size 432x288 with 1 Axes>"
      ]
     },
     "metadata": {
      "needs_background": "light"
     },
     "output_type": "display_data"
    }
   ],
   "source": [
    "plt.imshow(im[3].reshape(28, 28))"
   ]
  },
  {
   "cell_type": "code",
   "execution_count": 60,
   "metadata": {},
   "outputs": [],
   "source": [
    "nn.to('cpu')"
   ]
  },
  {
   "cell_type": "code",
   "execution_count": 66,
   "metadata": {},
   "outputs": [
    {
     "data": {
      "text/plain": [
       "array([0], dtype=int64)"
      ]
     },
     "execution_count": 66,
     "metadata": {},
     "output_type": "execute_result"
    }
   ],
   "source": [
    "nn(im[3][None, ...]).numpy().argmax(axis=-1)"
   ]
  },
  {
   "cell_type": "code",
   "execution_count": null,
   "metadata": {},
   "outputs": [],
   "source": []
  }
 ],
 "metadata": {
  "kernelspec": {
   "display_name": "base",
   "language": "python",
   "name": "python3"
  },
  "language_info": {
   "codemirror_mode": {
    "name": "ipython",
    "version": 3
   },
   "file_extension": ".py",
   "mimetype": "text/x-python",
   "name": "python",
   "nbconvert_exporter": "python",
   "pygments_lexer": "ipython3",
   "version": "3.10.14"
  }
 },
 "nbformat": 4,
 "nbformat_minor": 4
}
